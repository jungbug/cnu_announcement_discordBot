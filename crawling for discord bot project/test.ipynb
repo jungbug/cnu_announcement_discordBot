{
 "cells": [
  {
   "cell_type": "code",
   "id": "initial_id",
   "metadata": {
    "collapsed": true,
    "ExecuteTime": {
     "end_time": "2024-08-07T15:31:10.421015Z",
     "start_time": "2024-08-07T15:31:10.417246Z"
    }
   },
   "source": [
    "from crawling import get_html\n",
    "from crawling import post_parser\n",
    "from crawling import contents_parser\n",
    "from crawling import clean_data\n",
    "from crawling import add_post_contents\n",
    "from crawling import add_post_tables\n",
    "from crawling import parse_html_table\n",
    "from crawling import find_valid_tables\n",
    "from crawling import table_main\n",
    "from info import urls\n",
    "import pandas as pd"
   ],
   "outputs": [],
   "execution_count": 32
  },
  {
   "metadata": {
    "ExecuteTime": {
     "end_time": "2024-08-07T21:09:55.796386Z",
     "start_time": "2024-08-07T21:09:55.039319Z"
    }
   },
   "cell_type": "code",
   "source": [
    "if __name__ == \"__main__\":\n",
    "    url = urls[\"board_url\"]\n",
    "    html = get_html(url)\n",
    "    posts = post_parser(html)\n",
    "    posts = clean_data(posts)\n",
    "    contents = contents_parser(posts)\n",
    "    add_post_contents(posts, contents)\n",
    "    for post in posts:\n",
    "        print(post)\n",
    "    for post in posts:\n",
    "        post_url = post[\"본문링크\"]\n",
    "        print(post[\"번호\"])\n",
    "        dfs = table_main(post_url)\n",
    "        add_post_tables(posts, dfs)\n",
    "        for df in dfs:\n",
    "            display(df)"
   ],
   "id": "4768f53b1f5d5cfa",
   "outputs": [
    {
     "ename": "NameError",
     "evalue": "name 'url' is not defined",
     "output_type": "error",
     "traceback": [
      "\u001B[1;31m---------------------------------------------------------------------------\u001B[0m",
      "\u001B[1;31mNameError\u001B[0m                                 Traceback (most recent call last)",
      "Cell \u001B[1;32mIn[34], line 4\u001B[0m\n\u001B[0;32m      2\u001B[0m url \u001B[38;5;241m=\u001B[39m urls[\u001B[38;5;124m\"\u001B[39m\u001B[38;5;124mboard_url\u001B[39m\u001B[38;5;124m\"\u001B[39m]\n\u001B[0;32m      3\u001B[0m html \u001B[38;5;241m=\u001B[39m get_html(url)\n\u001B[1;32m----> 4\u001B[0m posts \u001B[38;5;241m=\u001B[39m \u001B[43mpost_parser\u001B[49m\u001B[43m(\u001B[49m\u001B[43mhtml\u001B[49m\u001B[43m)\u001B[49m\n\u001B[0;32m      5\u001B[0m posts \u001B[38;5;241m=\u001B[39m clean_data(posts)\n\u001B[0;32m      6\u001B[0m contents \u001B[38;5;241m=\u001B[39m contents_parser(posts)\n",
      "File \u001B[1;32m~\\Documents\\GitHub\\CNUNoticeDiscordBot\\crawling for discord bot project\\crawling.py:33\u001B[0m, in \u001B[0;36mpost_parser\u001B[1;34m(html)\u001B[0m\n\u001B[0;32m     26\u001B[0m     writer \u001B[38;5;241m=\u001B[39m row\u001B[38;5;241m.\u001B[39mfind(\u001B[38;5;124m'\u001B[39m\u001B[38;5;124mspan\u001B[39m\u001B[38;5;124m'\u001B[39m, class_\u001B[38;5;241m=\u001B[39m\u001B[38;5;124m\"\u001B[39m\u001B[38;5;124mb-writer\u001B[39m\u001B[38;5;124m\"\u001B[39m)\n\u001B[0;32m     27\u001B[0m     views \u001B[38;5;241m=\u001B[39m row\u001B[38;5;241m.\u001B[39mfind(\u001B[38;5;124m'\u001B[39m\u001B[38;5;124mspan\u001B[39m\u001B[38;5;124m'\u001B[39m, class_\u001B[38;5;241m=\u001B[39m\u001B[38;5;124m\"\u001B[39m\u001B[38;5;124mhit\u001B[39m\u001B[38;5;124m\"\u001B[39m)\n\u001B[0;32m     28\u001B[0m     post_data \u001B[38;5;241m=\u001B[39m {\u001B[38;5;124m'\u001B[39m\u001B[38;5;124m번호\u001B[39m\u001B[38;5;124m'\u001B[39m: number\u001B[38;5;241m.\u001B[39mget_text(strip\u001B[38;5;241m=\u001B[39m\u001B[38;5;28;01mTrue\u001B[39;00m) \u001B[38;5;28;01mif\u001B[39;00m number \u001B[38;5;28;01melse\u001B[39;00m \u001B[38;5;124m'\u001B[39m\u001B[38;5;124m'\u001B[39m,\n\u001B[0;32m     29\u001B[0m                    \u001B[38;5;124m'\u001B[39m\u001B[38;5;124m제목\u001B[39m\u001B[38;5;124m'\u001B[39m: title_box\u001B[38;5;241m.\u001B[39ma\u001B[38;5;241m.\u001B[39mget_text(strip\u001B[38;5;241m=\u001B[39m\u001B[38;5;28;01mTrue\u001B[39;00m) \u001B[38;5;28;01mif\u001B[39;00m title_box \u001B[38;5;129;01mand\u001B[39;00m title_box\u001B[38;5;241m.\u001B[39ma \u001B[38;5;28;01melse\u001B[39;00m \u001B[38;5;124m'\u001B[39m\u001B[38;5;124m'\u001B[39m,\n\u001B[0;32m     30\u001B[0m                    \u001B[38;5;124m\"\u001B[39m\u001B[38;5;124m작성자\u001B[39m\u001B[38;5;124m\"\u001B[39m: writer\u001B[38;5;241m.\u001B[39mget_text(strip\u001B[38;5;241m=\u001B[39m\u001B[38;5;28;01mTrue\u001B[39;00m) \u001B[38;5;28;01mif\u001B[39;00m writer \u001B[38;5;28;01melse\u001B[39;00m \u001B[38;5;124m'\u001B[39m\u001B[38;5;124m'\u001B[39m,\n\u001B[0;32m     31\u001B[0m                    \u001B[38;5;124m'\u001B[39m\u001B[38;5;124m날짜\u001B[39m\u001B[38;5;124m'\u001B[39m: date\u001B[38;5;241m.\u001B[39mget_text(strip\u001B[38;5;241m=\u001B[39m\u001B[38;5;28;01mTrue\u001B[39;00m) \u001B[38;5;28;01mif\u001B[39;00m writer \u001B[38;5;28;01melse\u001B[39;00m \u001B[38;5;124m'\u001B[39m\u001B[38;5;124m'\u001B[39m,\n\u001B[0;32m     32\u001B[0m                    \u001B[38;5;124m\"\u001B[39m\u001B[38;5;124m조회수\u001B[39m\u001B[38;5;124m\"\u001B[39m: views\u001B[38;5;241m.\u001B[39mget_text(strip\u001B[38;5;241m=\u001B[39m\u001B[38;5;28;01mTrue\u001B[39;00m) \u001B[38;5;28;01mif\u001B[39;00m views \u001B[38;5;28;01melse\u001B[39;00m \u001B[38;5;124m'\u001B[39m\u001B[38;5;124m'\u001B[39m,\n\u001B[1;32m---> 33\u001B[0m                    \u001B[38;5;124m\"\u001B[39m\u001B[38;5;124m본문링크\u001B[39m\u001B[38;5;124m\"\u001B[39m: \u001B[43murl\u001B[49m \u001B[38;5;241m+\u001B[39m title_box\u001B[38;5;241m.\u001B[39ma[\u001B[38;5;124m'\u001B[39m\u001B[38;5;124mhref\u001B[39m\u001B[38;5;124m'\u001B[39m] \u001B[38;5;28;01mif\u001B[39;00m title_box \u001B[38;5;129;01mand\u001B[39;00m title_box\u001B[38;5;241m.\u001B[39ma \u001B[38;5;28;01melse\u001B[39;00m \u001B[38;5;124m'\u001B[39m\u001B[38;5;124m'\u001B[39m}\n\u001B[0;32m     34\u001B[0m     posts\u001B[38;5;241m.\u001B[39mappend(post_data)\n\u001B[0;32m     35\u001B[0m \u001B[38;5;28;01mreturn\u001B[39;00m posts\n",
      "\u001B[1;31mNameError\u001B[0m: name 'url' is not defined"
     ]
    }
   ],
   "execution_count": 34
  },
  {
   "metadata": {},
   "cell_type": "code",
   "outputs": [],
   "execution_count": null,
   "source": "",
   "id": "439f709e9a08a526"
  }
 ],
 "metadata": {
  "kernelspec": {
   "display_name": "Python 3",
   "language": "python",
   "name": "python3"
  },
  "language_info": {
   "codemirror_mode": {
    "name": "ipython",
    "version": 2
   },
   "file_extension": ".py",
   "mimetype": "text/x-python",
   "name": "python",
   "nbconvert_exporter": "python",
   "pygments_lexer": "ipython2",
   "version": "2.7.6"
  }
 },
 "nbformat": 4,
 "nbformat_minor": 5
}
